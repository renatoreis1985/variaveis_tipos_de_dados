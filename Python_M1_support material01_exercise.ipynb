{
 "cells": [
  {
   "cell_type": "markdown",
   "metadata": {
    "id": "KJqp9AANOCtf"
   },
   "source": [
    "<img src=\"https://raw.githubusercontent.com/andre-marcos-perez/ebac-course-utils/main/media/logo/newebac_logo_black_half.png\" alt=\"ebac-logo\">\n",
    "\n",
    "---\n",
    "\n",
    "# **Módulo** | Python: Variáveis & Tipos de Dados\n",
    "Caderno de **Exercícios**<br> \n",
    "Professor [André Perez](https://www.linkedin.com/in/andremarcosperez/)\n",
    "\n",
    "---"
   ]
  },
  {
   "cell_type": "markdown",
   "metadata": {
    "id": "d9jDtUbDOE1-"
   },
   "source": [
    "# **Tópicos**\n",
    "\n",
    "<ol type=\"1\">\n",
    "  <li>Introdução ao Google Colab;</li>\n",
    "  <li>Variáveis;</li>\n",
    "  <li>Números;</li>\n",
    "  <li><i>Strings;</i></li>\n",
    "  <li>Boleanos.</li>\n",
    "</ol>"
   ]
  },
  {
   "cell_type": "markdown",
   "metadata": {
    "id": "SmoHgt-lwkpD"
   },
   "source": [
    "---"
   ]
  },
  {
   "cell_type": "markdown",
   "metadata": {
    "id": "GABI6OW8OfQ2"
   },
   "source": [
    "# **Exercícios**"
   ]
  },
  {
   "cell_type": "markdown",
   "metadata": {
    "id": "muD1vxozykSC"
   },
   "source": [
    "## 1\\. Google Colab"
   ]
  },
  {
   "cell_type": "markdown",
   "metadata": {
    "id": "ahrFfCuBxJKs"
   },
   "source": [
    "Crie uma célula de código que escreva o texto \"Olá mundo!\", utilize o comando `print`."
   ]
  },
  {
   "cell_type": "code",
   "execution_count": null,
   "metadata": {},
   "outputs": [],
   "source": [
    "print('Olá mundo')"
   ]
  },
  {
   "cell_type": "markdown",
   "metadata": {
    "id": "KI9zQRT2xa7m"
   },
   "source": [
    "Crie uma célua de texto e adicione uma imagem."
   ]
  },
  {
   "cell_type": "code",
   "execution_count": null,
   "metadata": {},
   "outputs": [
    {
     "data": {
      "text/markdown": [
       "![Descrição da imagem](data:image/png;base64,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)"
      ],
      "text/plain": [
       "<IPython.core.display.Markdown object>"
      ]
     },
     "metadata": {},
     "output_type": "display_data"
    },
    {
     "name": "stdout",
     "output_type": "stream",
     "text": [
      "Logo Ebac\n"
     ]
    }
   ],
   "source": [
    "from IPython.display import Markdown, display\n",
    "caminho_imagem = \"data:image/png;base64,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\"\n",
    "celula_texto = 'Logo Ebac'\n",
    "\n",
    "texto_markdown = f\"![Descrição da imagem]({caminho_imagem})\"\n",
    "\n",
    "display(Markdown(texto_markdown))\n",
    "print(celula_texto)"
   ]
  },
  {
   "cell_type": "markdown",
   "metadata": {
    "id": "zMN1Q3jdwoJm"
   },
   "source": [
    "---"
   ]
  },
  {
   "cell_type": "markdown",
   "metadata": {
    "id": "tFYOPLS3xiwe"
   },
   "source": [
    "## 2\\. Números"
   ]
  },
  {
   "cell_type": "markdown",
   "metadata": {
    "id": "O2G9gt7tx2c-"
   },
   "source": [
    "Preencha as células de código para preencher os valores de (A), (B) e (C) na tabela de ticket médio abaixo:\n",
    "\n",
    "<br>\n",
    "\n",
    "| Dia   | Valor Total Vendas | Qtd Total Vendas | Ticket Medio |\n",
    "|-------|--------------------|------------------|--------------|\n",
    "| 19/01 | (A)                | 3                | 320.52       |\n",
    "| 20/01 | 834.47             | (B)              | 119.21       |\n",
    "| 23/01 | 15378.12           | 5                | (C)          |"
   ]
  },
  {
   "cell_type": "code",
   "execution_count": 2,
   "metadata": {
    "id": "nsrKH9EizNRD"
   },
   "outputs": [
    {
     "name": "stdout",
     "output_type": "stream",
     "text": [
      "961.56\n"
     ]
    }
   ],
   "source": [
    "# (A)961.56\n",
    "\n",
    "a = 3 * 320.52\n",
    "print(a)"
   ]
  },
  {
   "cell_type": "code",
   "execution_count": 7,
   "metadata": {
    "id": "QQ1GBGHJzMmi"
   },
   "outputs": [
    {
     "name": "stdout",
     "output_type": "stream",
     "text": [
      "7.000000000000001\n"
     ]
    }
   ],
   "source": [
    "# (B)7\n",
    "b = 834.47 / 119.21\n",
    "print(b)"
   ]
  },
  {
   "cell_type": "code",
   "execution_count": 10,
   "metadata": {
    "id": "W-li0nSMzKNa"
   },
   "outputs": [
    {
     "name": "stdout",
     "output_type": "stream",
     "text": [
      "3075.6240000000003\n"
     ]
    }
   ],
   "source": [
    "# (C)3075.62\n",
    "c = 15378.12 / 5\n",
    "print(c)"
   ]
  },
  {
   "cell_type": "markdown",
   "metadata": {
    "id": "3eoP-Vj9yzh8"
   },
   "source": [
    "---"
   ]
  },
  {
   "cell_type": "markdown",
   "metadata": {
    "id": "yUJ6kdony6Pr"
   },
   "source": [
    "## 3\\. Strings"
   ]
  },
  {
   "cell_type": "markdown",
   "metadata": {
    "id": "KDuZpg-5zCvO"
   },
   "source": [
    "Aplique três métodos distintos na *string* abaixo, você pode conferir alguns métodos neste [link](https://www.w3schools.com/python/python_ref_string.asp):"
   ]
  },
  {
   "cell_type": "code",
   "execution_count": 34,
   "metadata": {
    "id": "k9zbyf7BzjKj"
   },
   "outputs": [
    {
     "name": "stdout",
     "output_type": "stream",
     "text": [
      "RODA MUNDO, RODA GIGANTE, RODA MOINHO, RODA PIÃO.\n",
      "roda mundo, roda gigante, roda moinho, roda pião.\n",
      "['Roda', 'mundo,', 'roda', 'gigante,', 'roda', 'moinho,', 'roda', 'pião.']\n"
     ]
    }
   ],
   "source": [
    "cancao = 'Roda mundo, roda gigante, roda moinho, roda pião.'\n",
    "\n",
    "print(cancao.upper())\n",
    "print(cancao.lower())\n",
    "print(cancao.split())"
   ]
  },
  {
   "cell_type": "markdown",
   "metadata": {
    "id": "guZMHXVq0FnC"
   },
   "source": [
    "Extraia da string abaixo o valor da taxa **selic** na variável `selic` e o valor do **ano** na variavel `ano`. Imprima os valores na tela."
   ]
  },
  {
   "cell_type": "code",
   "execution_count": 64,
   "metadata": {
    "id": "cbx_P4IQ0agK"
   },
   "outputs": [
    {
     "name": "stdout",
     "output_type": "stream",
     "text": [
      "2,75%\n",
      "6 \n",
      "A taxa Selic é: 2,75%.\n",
      "É a primeira alta em: 6 anos!\n"
     ]
    }
   ],
   "source": [
    "noticia = 'Selic vai a 2,75% e supera expectativas; é a primeira alta em 6 anos.'\n",
    "\n",
    "selic = noticia[12:17]\n",
    "ano = noticia[62:64]\n",
    "print(selic)\n",
    "print(ano)\n",
    "print('A taxa Selic é: ' + selic + '.')\n",
    "print('É a primeira alta em: ' + ano + 'anos!')"
   ]
  },
  {
   "cell_type": "markdown",
   "metadata": {
    "id": "wWzbu-OC0z3L"
   },
   "source": [
    "---"
   ]
  },
  {
   "cell_type": "markdown",
   "metadata": {
    "id": "no8w_Ati01xP"
   },
   "source": [
    "## 4\\. Booleanos"
   ]
  },
  {
   "cell_type": "markdown",
   "metadata": {
    "id": "D_0tC3SC099N"
   },
   "source": [
    "Utilize a tabela da verdade para responder: qual o valor da variável x?"
   ]
  },
  {
   "cell_type": "code",
   "execution_count": 65,
   "metadata": {
    "id": "XwIEbxf91SpU"
   },
   "outputs": [
    {
     "name": "stdout",
     "output_type": "stream",
     "text": [
      "True\n"
     ]
    }
   ],
   "source": [
    "a = False\n",
    "b = True\n",
    "\n",
    "x = not a & b\n",
    "\n",
    "#not a: Como \"a\" é False, not \"a\" será True;\n",
    "#& b: \"&\"\" (operador e);\n",
    "#Assim teremos \"a\" como True e \"b\" é True;\n",
    "#Calculando (True & True): Isso resulta em True;\n",
    "#Portanto, o valor da variável \"x\" é True!\n",
    "\n",
    "print(x)\n"
   ]
  }
 ],
 "metadata": {
  "colab": {
   "name": "module_1_exercise.ipynb",
   "provenance": [],
   "toc_visible": true
  },
  "kernelspec": {
   "display_name": "Python 3",
   "name": "python3"
  },
  "language_info": {
   "codemirror_mode": {
    "name": "ipython",
    "version": 3
   },
   "file_extension": ".py",
   "mimetype": "text/x-python",
   "name": "python",
   "nbconvert_exporter": "python",
   "pygments_lexer": "ipython3",
   "version": "3.11.9"
  }
 },
 "nbformat": 4,
 "nbformat_minor": 0
}
